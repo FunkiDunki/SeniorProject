{
 "cells": [
  {
   "cell_type": "markdown",
   "metadata": {},
   "source": [
    "# Testing for Language Model - Dungeon Master (LMDM)"
   ]
  },
  {
   "cell_type": "code",
   "execution_count": 36,
   "metadata": {},
   "outputs": [],
   "source": [
    "# copy of imports from the original mapwalker.py file:\n",
    "import json\n",
    "from mapwalker_data import World, Node, Edge, Player\n",
    "from typing import List, Tuple, Union, Type, Dict\n",
    "import random\n",
    "import sys\n",
    "from pydantic import BaseModel, Field\n",
    "from openai import OpenAI\n",
    "import textwrap\n",
    "from enum import Enum"
   ]
  },
  {
   "cell_type": "code",
   "execution_count": 2,
   "metadata": {},
   "outputs": [],
   "source": [
    "#able to print big BaseModel's nicely\n",
    "from devtools import pprint"
   ]
  },
  {
   "cell_type": "code",
   "execution_count": 3,
   "metadata": {},
   "outputs": [],
   "source": [
    "# The URL where the local server is running\n",
    "url = \"http://localhost:1234/v1/\"\n",
    "MODEL = \"qwen2.5-14b-instruct\""
   ]
  },
  {
   "cell_type": "code",
   "execution_count": 4,
   "metadata": {},
   "outputs": [],
   "source": [
    "#get the client:\n",
    "client = OpenAI(base_url=url, api_key=\"lm-studio\")"
   ]
  },
  {
   "cell_type": "code",
   "execution_count": 5,
   "metadata": {},
   "outputs": [],
   "source": [
    "#see some json defns:\n",
    "class MovementOption(BaseModel):\n",
    "    identifier: str = Field(\"move\", literal=True)\n",
    "    location: str\n",
    "\n",
    "class InteractOption(BaseModel):\n",
    "    identifier:str = Field(\"interact\", literal=True) \n",
    "    result: str\n",
    "\n",
    "class OutputChoice(BaseModel):\n",
    "    value: Union[MovementOption, InteractOption, None]"
   ]
  },
  {
   "cell_type": "code",
   "execution_count": 56,
   "metadata": {},
   "outputs": [],
   "source": [
    "#new update to lmstudio has stricter reqs for structured_output:\n",
    "def update_schema(input_model: Type[BaseModel]) -> Dict[str, any]:\n",
    "    tmp = input_model.model_json_schema()\n",
    "\n",
    "    return {\n",
    "        \"type\": \"json_schema\",\n",
    "        \"json_schema\": {\n",
    "            \"name\": \"test_schema\",\n",
    "            \"strict\": True,\n",
    "            \"schema\": tmp\n",
    "        }\n",
    "    }\n",
    "    tmp['strict'] = True\n",
    "    tmp = {\"type\": \"json_schema\", \"json_schema\": {\"strict\":True, \"name\": tmp['title'], \"schema\":tmp}}\n",
    "\n",
    "    return tmp\n",
    "\n",
    "def StructuredApiCall(messages: List, model_format: Type[BaseModel]):\n",
    "    #first get the schema for the model:\n",
    "    schema = update_schema(model_format)\n",
    "\n",
    "    response = client.beta.chat.completions.parse(\n",
    "        model=MODEL,\n",
    "        messages=messages,\n",
    "        response_format=update_schema(model_format),\n",
    "        temperature=0.5,\n",
    "    ).choices[0].message.content\n",
    "\n",
    "    return model_format.model_validate_json(response)"
   ]
  },
  {
   "cell_type": "code",
   "execution_count": 30,
   "metadata": {},
   "outputs": [
    {
     "name": "stdout",
     "output_type": "stream",
     "text": [
      "{\n",
      "    'type': 'json_schema',\n",
      "    'json_schema': {\n",
      "        'strict': True,\n",
      "        'name': 'MovementOption',\n",
      "        'schema': {\n",
      "            'properties': {\n",
      "                'identifier': {\n",
      "                    'default': 'move',\n",
      "                    'literal': True,\n",
      "                    'title': 'Identifier',\n",
      "                    'type': 'string',\n",
      "                },\n",
      "                'location': {\n",
      "                    'title': 'Location',\n",
      "                    'type': 'string',\n",
      "                },\n",
      "            },\n",
      "            'required': [\n",
      "                'location',\n",
      "            ],\n",
      "            'title': 'MovementOption',\n",
      "            'type': 'object',\n",
      "            'strict': True,\n",
      "        },\n",
      "    },\n",
      "}\n"
     ]
    }
   ],
   "source": [
    "pprint(update_schema(MovementOption))"
   ]
  },
  {
   "cell_type": "code",
   "execution_count": 38,
   "metadata": {},
   "outputs": [
    {
     "name": "stdout",
     "output_type": "stream",
     "text": [
      "{\n",
      "    'type': 'json_schema',\n",
      "    'json_schema': {\n",
      "        'name': 'test_schema',\n",
      "        'strict': True,\n",
      "        'schema': {\n",
      "            '$defs': {\n",
      "                'InteractOption': {\n",
      "                    'properties': {\n",
      "                        'identifier': {\n",
      "                            'default': 'interact',\n",
      "                            'literal': True,\n",
      "                            'title': 'Identifier',\n",
      "                            'type': 'string',\n",
      "                        },\n",
      "                        'result': {\n",
      "                            'title': 'Result',\n",
      "                            'type': 'string',\n",
      "                        },\n",
      "                    },\n",
      "                    'required': ['result'],\n",
      "                    'title': 'InteractOption',\n",
      "                    'type': 'object',\n",
      "                },\n",
      "                'MovementOption': {\n",
      "                    'properties': {\n",
      "                        'identifier': {\n",
      "                            'default': 'move',\n",
      "                            'literal': True,\n",
      "                            'title': 'Identifier',\n",
      "                            'type': 'string',\n",
      "                        },\n",
      "                        'location': {\n",
      "                            'title': 'Location',\n",
      "                            'type': 'string',\n",
      "                        },\n",
      "                    },\n",
      "                    'required': [\n",
      "                        'location',\n",
      "                    ],\n",
      "                    'title': 'MovementOption',\n",
      "                    'type': 'object',\n",
      "                },\n",
      "            },\n",
      "            'properties': {\n",
      "                'value': {\n",
      "                    'anyOf': [\n",
      "                        {\n",
      "                            '$ref': '#/$defs/MovementOption',\n",
      "                        },\n",
      "                        {\n",
      "                            '$ref': '#/$defs/InteractOption',\n",
      "                        },\n",
      "                        {\n",
      "                            'type': 'null',\n",
      "                        },\n",
      "                    ],\n",
      "                    'title': 'Value',\n",
      "                },\n",
      "            },\n",
      "            'required': ['value'],\n",
      "            'title': 'OutputChoice',\n",
      "            'type': 'object',\n",
      "        },\n",
      "    },\n",
      "}\n"
     ]
    }
   ],
   "source": [
    "pprint(update_schema(OutputChoice))"
   ]
  },
  {
   "cell_type": "code",
   "execution_count": 12,
   "metadata": {},
   "outputs": [],
   "source": [
    "#now lets ask for a result:\n",
    "PARSE_CHOICE_PROMPT = textwrap.dedent(\n",
    "    \"\"\"\n",
    "    The player is in the current node. \\\n",
    "    They may either interact in the node, \\\n",
    "    or they may attempt to move to another node. \\\n",
    "    Based on their prompt, decide if they are trying \\\n",
    "    to interact, move, or neither. \\\n",
    "    If they interact, describe what happens as 'result'. \\\n",
    "    If they move, say the name of the new node as 'location'. \\\n",
    "    If neither, then return None.\n",
    "    \"\"\"\n",
    ")"
   ]
  },
  {
   "cell_type": "code",
   "execution_count": 41,
   "metadata": {},
   "outputs": [],
   "source": [
    "#setup the messages:\n",
    "messages = [\n",
    "    {\n",
    "        \"role\": \"system\",\n",
    "        \"content\": PARSE_CHOICE_PROMPT\n",
    "    },\n",
    "    {\n",
    "        \"role\": \"system\",\n",
    "        \"content\": \"Current node: a dark forest covered by moonlight\"\n",
    "    },\n",
    "    {\n",
    "        \"role\": \"user\",\n",
    "        \"content\": \"move to the nearby well.\"\n",
    "    }\n",
    "]\n"
   ]
  },
  {
   "cell_type": "code",
   "execution_count": 44,
   "metadata": {},
   "outputs": [
    {
     "name": "stdout",
     "output_type": "stream",
     "text": [
      "{\"value\": {\"location\": \"a decrepit well\"}}\n",
      "value=MovementOption(identifier='move', location='a decrepit well')\n"
     ]
    }
   ],
   "source": [
    "response = client.beta.chat.completions.parse(\n",
    "    model=MODEL,\n",
    "    messages=messages,\n",
    "    response_format=update_schema(OutputChoice),\n",
    "    temperature=0.5,\n",
    ").choices[0].message.content\n",
    "\n",
    "print(response)\n",
    "print(OutputChoice.model_validate_json(response))"
   ]
  },
  {
   "cell_type": "markdown",
   "metadata": {},
   "source": [
    "### Now to test generation of arcs and scenes:"
   ]
  },
  {
   "cell_type": "code",
   "execution_count": 45,
   "metadata": {},
   "outputs": [],
   "source": [
    "#classes for storylines:\n",
    "class StoryArcResponse(BaseModel):\n",
    "    name: str\n",
    "    description: str\n",
    "\n",
    "class ArcCollectionResponse(BaseModel):\n",
    "    name: str\n",
    "    all_arcs: List[StoryArcResponse]\n",
    "\n",
    "class StoryScene(BaseModel):\n",
    "    name: str\n",
    "    description: str\n",
    "\n",
    "class SceneCollection(BaseModel):\n",
    "    all_scenes: List[StoryScene]"
   ]
  },
  {
   "cell_type": "code",
   "execution_count": 61,
   "metadata": {},
   "outputs": [],
   "source": [
    "#prompt to generate arcs first\n",
    "ARC_GENERATE_PROMPT = textwrap.dedent(\n",
    "    \"\"\"\n",
    "    You are a virtual Dungeon Master, \\\n",
    "    crafting a solo campaign for a player. \\\n",
    "    Given the context given by the user, \\\n",
    "    Craft a rough outline of the main arcs in the story. \\\n",
    "    For each arc, give a name and a short description. \\\n",
    "    Generate prefer generating about 3 arcs. \\\n",
    "    Also generate a name for the campaign.\n",
    "    \"\"\"\n",
    ")\n",
    "\n",
    "SCENE_GENERATE_PROMPT = textwrap.dedent(\n",
    "    \"\"\"\n",
    "    You are a virtual Dungeon Master, \\\n",
    "    crafting a solo campaign for a player. \\\n",
    "    The name of the story, as well as the \\\n",
    "    main arcs have already been outlined. \\\n",
    "    Based on the prompt (selecting one of the arcs), \\\n",
    "    generate an outline of the main scenes in that arc. \\\n",
    "    For each scene, give a name and a short description. \\\n",
    "    For each scene, focus mostly on where it is and what \\\n",
    "    npcs do. Try not to determine how the player would act. \\\n",
    "    Prefer generating between 3 and 6 scenes.\n",
    "    \"\"\"\n",
    ")"
   ]
  },
  {
   "cell_type": "code",
   "execution_count": 62,
   "metadata": {},
   "outputs": [],
   "source": [
    "arc_messages = [\n",
    "    {\n",
    "        \"role\": \"system\",\n",
    "        \"content\": ARC_GENERATE_PROMPT \n",
    "    },\n",
    "    {\n",
    "        \"role\": \"user\",\n",
    "        \"content\": \"The magic system should roughly follow Brandon Sanderson's Stormlight Archives\"\n",
    "    }\n",
    "]"
   ]
  },
  {
   "cell_type": "code",
   "execution_count": 63,
   "metadata": {},
   "outputs": [
    {
     "name": "stdout",
     "output_type": "stream",
     "text": [
      "ArcCollectionResponse(\n",
      "    name='Veins of Alethkar',\n",
      "    all_arcs=[\n",
      "        StoryArcResponse(\n",
      "            name='Awakening the Windrunners',\n",
      "            description=(\n",
      "                'As a young initiate in the city-state of Kharbranth, you are introduced to the world of Alethkar and '\n",
      "                'its unique magic system. You must prove yourself by mastering your first spren bond and learning to m'\n",
      "                'anipulate the ever-present storms that rage across the land.'\n",
      "            ),\n",
      "        ),\n",
      "        StoryArcResponse(\n",
      "            name='The Shardplate Quest',\n",
      "            description=(\n",
      "                'After a devastating storm destroys Kharbranth, you are tasked with securing shardplates for your city'\n",
      "                '’s warclan. This quest takes you through treacherous landscapes and introduces you to other warclans '\n",
      "                'of Alethkar, each with their own secrets and rivalries.'\n",
      "            ),\n",
      "        ),\n",
      "        StoryArcResponse(\n",
      "            name=\"The Herald's Prophecy\",\n",
      "            description=(\n",
      "                'A mysterious herald arrives in Kharbranth, foretelling a great calamity that threatens all of Alethka'\n",
      "                'r. You must uncover the truth behind this prophecy while navigating the complex politics of the warcl'\n",
      "                'ans and the enigmatic spren who guide them.'\n",
      "            ),\n",
      "        ),\n",
      "    ],\n",
      ")\n"
     ]
    }
   ],
   "source": [
    "arcs_outline = StructuredApiCall(arc_messages, ArcCollectionResponse)\n",
    "pprint(arcs_outline)"
   ]
  },
  {
   "cell_type": "code",
   "execution_count": 54,
   "metadata": {},
   "outputs": [],
   "source": [
    "scenes_messages = [\n",
    "    {\n",
    "        \"role\": \"system\",\n",
    "        \"content\": SCENE_GENERATE_PROMPT \n",
    "    },\n",
    "    {\n",
    "        \"role\": \"system\",\n",
    "        \"content\": f\"Current Arcs: {arcs_outline.model_dump_json()}\"\n",
    "    },\n",
    "    {\n",
    "        \"role\": \"user\",\n",
    "        \"content\": f\"Generate Scenes for '{arcs_outline.all_arcs[0].name}'\"\n",
    "    }\n",
    "]"
   ]
  },
  {
   "cell_type": "code",
   "execution_count": 55,
   "metadata": {},
   "outputs": [
    {
     "name": "stdout",
     "output_type": "stream",
     "text": [
      "SceneCollection(\n",
      "    all_scenes=[\n",
      "        StoryScene(\n",
      "            name='The Village of Vespera',\n",
      "            description=(\n",
      "                'Our initiate begins their journey in the small, isolated village of Vespera. Here, they encounter loc'\n",
      "                'al villagers who offer guidance and insight into the basics of their newfound abilities. The village '\n",
      "                'is nestled on the edge of a forest, where natural elements provide both beauty and danger.'\n",
      "            ),\n",
      "        ),\n",
      "        StoryScene(\n",
      "            name='The First Stormlight',\n",
      "            description=(\n",
      "                'Under the guidance of an experienced elder from the Radiant Order, our initiate learns to tap into St'\n",
      "                'ormlight for the first time using gemstones. This scene takes place in a secluded grove near Vespera,'\n",
      "                ' under the watchful eyes of the elder who teaches them about the fundamental principles and safety pr'\n",
      "                'ecautions.'\n",
      "            ),\n",
      "        ),\n",
      "        StoryScene(\n",
      "            name='Training with Fellow Initiates',\n",
      "            description=(\n",
      "                'The initiate joins other young individuals from various villages in basic training exercises at a nea'\n",
      "                'rby outpost. Here they learn teamwork, combat techniques using simple weapons (no Shardplate or Shard'\n",
      "                'blade yet), and how to control their abilities in stressful situations.'\n",
      "            ),\n",
      "        ),\n",
      "        StoryScene(\n",
      "            name='Guarding the Village',\n",
      "            description=(\n",
      "                'Our protagonist is tasked with protecting Vespera during an unusually severe storm, demonstrating the'\n",
      "                'ir ability to channel Stormlight effectively for defensive purposes. This scene highlights practical '\n",
      "                'applications of their new magic within a real-world context.'\n",
      "            ),\n",
      "        ),\n",
      "        StoryScene(\n",
      "            name='Meeting the Radiant Mentor',\n",
      "            description=(\n",
      "                'The initiate receives a visit from a seasoned Radiant who acts as their mentor and guide. This meetin'\n",
      "                'g takes place in an ancient temple deep within the forest, where our hero learns more about the histo'\n",
      "                'ry and deeper mysteries surrounding their abilities.'\n",
      "            ),\n",
      "        ),\n",
      "    ],\n",
      ")\n"
     ]
    }
   ],
   "source": [
    "response = client.beta.chat.completions.parse(\n",
    "    messages=scenes_messages,\n",
    "    model=MODEL,\n",
    "    response_format=SceneCollection\n",
    ")\n",
    "response = response.choices[0].message.content\n",
    "scenes_outline: SceneCollection= SceneCollection.model_validate_json(response)\n",
    "pprint(scenes_outline)"
   ]
  },
  {
   "cell_type": "code",
   "execution_count": null,
   "metadata": {},
   "outputs": [],
   "source": []
  }
 ],
 "metadata": {
  "kernelspec": {
   "display_name": "venv",
   "language": "python",
   "name": "python3"
  },
  "language_info": {
   "codemirror_mode": {
    "name": "ipython",
    "version": 3
   },
   "file_extension": ".py",
   "mimetype": "text/x-python",
   "name": "python",
   "nbconvert_exporter": "python",
   "pygments_lexer": "ipython3",
   "version": "3.12.4"
  }
 },
 "nbformat": 4,
 "nbformat_minor": 2
}
